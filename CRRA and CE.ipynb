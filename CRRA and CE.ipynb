{
 "cells": [
  {
   "cell_type": "code",
   "execution_count": 1,
   "metadata": {},
   "outputs": [
    {
     "name": "stdout",
     "output_type": "stream",
     "text": [
      "numpy                1.19.2              \n",
      "pandas               1.1.3               \n"
     ]
    }
   ],
   "source": [
    "import pandas as pd\n",
    "import numpy as np\n",
    "print(f\"numpy                {np.__version__:<20}\")\n",
    "print(f\"pandas               {pd.__version__:<20}\")\n",
    "\n",
    "import pytest\n",
    "\n",
    "np.random.seed(42)"
   ]
  },
  {
   "cell_type": "markdown",
   "metadata": {},
   "source": [
    "CRRA utility: \n",
    "\n",
    "- Suppose you are offered a coin flip for \\$2, how much would you pay?\n",
    "- Probably no more than \\$1\n",
    "- Probably a bit less than \\$1, reflecting a risk premium. You demand a higher return for taking the risk.\n",
    "- Suppose you are offered a retirement annuity of \\$10,000 per year, how much would you pay? Probably about the NPV using some discount rate\n",
    "- Suppose you are offered a variable annuity that draws the payment from some distribution. How much would you pay? Probably a little less: The NPV using a slightly higher discount rate reflecting a risk premium.\n",
    "- A related question is how much of your net worth you would invest in a positive EV bet. If your preference is to always invest the same share of your net worth, you exhibit constant relative risk aversion, or CRRA. It just means you don't become more or less risk averse as you become more wealthy. The risk premium you demand for a given bet that is a given fraction of your wealth always remains the same.\n",
    "- If you tell me you the amount of the risk premium you demand, and that you always invest the same fraction of your net worth, I can tell you that your utility function looks like the below and also what your $\\gamma$ risk aversion parameter is:\n",
    "\n",
    "1) $u(c) = \\frac{c^{1-\\gamma} -1}{1-\\gamma}$\n",
    "\n",
    "- Using this formula, I can derive your risk premium or equivalently the amount you would pay for the variable annuity. If your utility is given by the formula above, I can calculate the equivalent constant payment stream as the inverse function\n",
    "\n",
    "2) $c = {(1 + u(c) (1 - \\gamma))}^\\frac{1}{1 -\\gamma}$\n",
    "\n",
    "To value a variable income stream, I convert it to utility using formula 1 and my risk aversion parameter, then convert the utility to the equivalent constant stream of cash using formula 2). Then I can discount that stream at the risk free rate and that tells me what the variable risk stream is worth.\n",
    "\n",
    "https://en.wikipedia.org/wiki/Isoelastic_utility"
   ]
  },
  {
   "cell_type": "code",
   "execution_count": 2,
   "metadata": {},
   "outputs": [
    {
     "name": "stdout",
     "output_type": "stream",
     "text": [
      "sum 1.0\n"
     ]
    },
    {
     "data": {
      "text/plain": [
       "array([0.01      , 0.0198    , 0.029106  , 0.03764376, 0.04517251,\n",
       "       0.05149666, 0.05647467, 0.06002451, 0.06212537, 0.06281565,\n",
       "       0.06218749, 0.0603784 , 0.05756074, 0.05392999, 0.04969263,\n",
       "       0.04505465, 0.04021128, 0.03533862, 0.03058754, 0.0260799 ,\n",
       "       0.02190712, 0.01813075, 0.0147848 , 0.01187927, 0.00940442,\n",
       "       0.00733545, 0.00563701, 0.00426742, 0.00318228, 0.0077911 ])"
      ]
     },
     "execution_count": 2,
     "metadata": {},
     "output_type": "execute_result"
    }
   ],
   "source": [
    "# compute CE cash flow with a mortality curve\n",
    "\n",
    "# compute % of original cohort that dies each year\n",
    "# mortality starts at 1% in year one and goes up linearly by 1% each year\n",
    "mortality = np.linspace(0.00, 1.0, 101)\n",
    "survivorship = np.cumprod(1-mortality[:31])\n",
    "deathrate = -np.diff(survivorship)\n",
    "# top up last 1 to get to \n",
    "deathrate[-1] += 1- np.sum(deathrate)\n",
    "print (\"sum\", np.sum(deathrate))\n",
    "deathrate\n",
    "\n"
   ]
  },
  {
   "cell_type": "code",
   "execution_count": 3,
   "metadata": {},
   "outputs": [
    {
     "data": {
      "text/plain": [
       "array([38.07947177, 95.12071633, 73.46740024, 60.26718994, 16.4458454 ,\n",
       "       16.44345751,  6.7502776 , 86.75143843, 60.51038616, 71.0991852 ,\n",
       "        3.03786494, 97.02107536, 83.41182144, 22.02157196, 19.00067175,\n",
       "       19.15704648, 31.11998205, 52.95088673, 43.76255685, 29.83168488,\n",
       "       61.57343658, 14.8098922 , 29.9223202 , 37.26982249, 46.15092844,\n",
       "       78.73242018, 20.76770443, 51.9092094 , 59.64904232,  5.59859086])"
      ]
     },
     "execution_count": 3,
     "metadata": {},
     "output_type": "execute_result"
    }
   ],
   "source": [
    "# random cashflows\n",
    "cashflows = np.random.uniform(1, 100, 30)\n",
    "cashflows"
   ]
  },
  {
   "cell_type": "code",
   "execution_count": 4,
   "metadata": {},
   "outputs": [
    {
     "data": {
      "text/plain": [
       "array([3.63967534, 4.55514678, 4.29684177, 4.09878784, 2.80007289,\n",
       "       2.79992768, 1.90958363, 4.463047  , 4.10281502, 4.26407588,\n",
       "       1.11115494, 4.57492823, 4.42379004, 3.09202252, 2.94447433,\n",
       "       2.95267061, 3.43785012, 3.96936482, 3.77877859, 3.39557108,\n",
       "       4.12023055, 2.69529535, 3.3986047 , 3.61818395, 3.83191708,\n",
       "       4.36605502, 3.03339911, 3.94949622, 4.08847809, 1.72251493])"
      ]
     },
     "execution_count": 4,
     "metadata": {},
     "output_type": "execute_result"
    }
   ],
   "source": [
    "# utility, for example log utility (gamma = 1)\n",
    "u = np.log(cashflows)\n",
    "u"
   ]
  },
  {
   "cell_type": "code",
   "execution_count": 5,
   "metadata": {},
   "outputs": [
    {
     "data": {
      "text/plain": [
       "array([ 1,  2,  3,  4,  5,  6,  7,  8,  9, 10, 11, 12, 13, 14, 15, 16, 17,\n",
       "       18, 19, 20, 21, 22, 23, 24, 25, 26, 27, 28, 29, 30])"
      ]
     },
     "execution_count": 5,
     "metadata": {},
     "output_type": "execute_result"
    }
   ],
   "source": [
    "indices = np.indices(u.shape)[0]+1\n",
    "indices"
   ]
  },
  {
   "cell_type": "code",
   "execution_count": 6,
   "metadata": {},
   "outputs": [
    {
     "data": {
      "text/plain": [
       "array([3.63967534, 4.09741106, 4.16388797, 4.14761293, 3.87810492,\n",
       "       3.69840872, 3.44286228, 3.57038537, 3.62954422, 3.69299738,\n",
       "       3.45828443, 3.55133808, 3.61844977, 3.58084783, 3.53842293,\n",
       "       3.50181341, 3.49805086, 3.52423497, 3.537632  , 3.53052896,\n",
       "       3.55860998, 3.51936841, 3.51411781, 3.5184539 , 3.53099243,\n",
       "       3.56311022, 3.54349129, 3.55799147, 3.57628411, 3.5144918 ])"
      ]
     },
     "execution_count": 6,
     "metadata": {},
     "output_type": "execute_result"
    }
   ],
   "source": [
    "# cumulative mean utility\n",
    "mean_u = np.cumsum(u)/indices\n",
    "mean_u"
   ]
  },
  {
   "cell_type": "code",
   "execution_count": 7,
   "metadata": {},
   "outputs": [
    {
     "data": {
      "text/plain": [
       "array([  38.07947177,  120.3685446 ,  192.96334598,  253.13103899,\n",
       "        241.66267216,  242.2979546 ,  218.93446207,  284.24226157,\n",
       "        339.26068512,  401.65056775,  349.38683112,  418.31918156,\n",
       "        484.63650235,  502.65555566,  516.18907746,  530.80893156,\n",
       "        561.86645922,  610.70054169,  653.32256476,  682.84044909,\n",
       "        737.40142762,  742.78814031,  772.48456618,  809.57363536,\n",
       "        853.94625157,  917.09105093,  933.86151596,  982.59396472,\n",
       "       1036.47409588, 1007.96546332])"
      ]
     },
     "execution_count": 7,
     "metadata": {},
     "output_type": "execute_result"
    }
   ],
   "source": [
    "# convert utility back to cash flow and multiply by number of years for cumulative ce cash flow\n",
    "ce = np.exp(mean_u) * indices\n",
    "ce"
   ]
  },
  {
   "cell_type": "code",
   "execution_count": 8,
   "metadata": {},
   "outputs": [
    {
     "data": {
      "text/plain": [
       "436.58452788516126"
      ]
     },
     "execution_count": 8,
     "metadata": {},
     "output_type": "execute_result"
    }
   ],
   "source": [
    "# experienced cumulative CE cash flow \n",
    "# multiply each year's % who died in that year by cumulative CE cash flow up to that year\n",
    "# and then sum for average experienced total cash flow\n",
    "madj_ce = np.sum(ce * deathrate)\n",
    "madj_ce\n",
    "\n",
    "# (there's a (weak) argument for using the average, \n",
    "# i.e. adjusting to equal weight the guy who died in year 1 with the guy who died in year 30)\n"
   ]
  },
  {
   "cell_type": "code",
   "execution_count": 9,
   "metadata": {},
   "outputs": [],
   "source": [
    "# that is the CE value of 1 cohort's experienced outcome\n",
    "# if I have a strategy and I want the CE value of the whole history of all cohorts\n",
    "# take the CE value experience of each cohort\n",
    "# model the value of the whole history as if you were drawing the experience of one cohort at random \n",
    "# so take the CE value of all the CE values (i.e. discount the risk not only within each cohort but over all cohorts)\n",
    "# and that's the value of your comprehensive retirement strategy, adjusted for risk"
   ]
  },
  {
   "cell_type": "code",
   "execution_count": 10,
   "metadata": {},
   "outputs": [],
   "source": [
    "def crra_ce(cashflows, gamma):\n",
    "    \"\"\"takes a numpy array, returns total CRRA certainty-equivalent cash flow\"\"\"\n",
    "    # for retirement study assume no negative cashflows\n",
    "    if sum(np.where(cashflows < 0, 1, 0)):\n",
    "        return 0.0\n",
    "    elif gamma >= 1.0 and 0 in cashflows:\n",
    "        return 0.0\n",
    "    elif gamma == 1.0:\n",
    "        # general formula for CRRA utility undefined for gamma = 1 but limit as gamma->1 = log\n",
    "        u = np.mean(np.log(cashflows))\n",
    "        ce = np.exp(u)\n",
    "    elif gamma == 2.0:  # simple optimization\n",
    "        u2 = np.mean(1 - 1.0 / cashflows)\n",
    "        ce = 1.0 / (1.0 - u2)\n",
    "    elif gamma > 4.0:\n",
    "        # force computations as longdouble for more precision, but always return np.float\n",
    "        gamma = np.longdouble(gamma)\n",
    "        cashflows = cashflows.astype(np.longdouble)\n",
    "        gamma_m1 = gamma - 1.0\n",
    "        gamma_m1_inverse = 1.0 / gamma_m1\n",
    "        u = np.mean(gamma_m1_inverse - 1.0 / (gamma_m1 * cashflows ** gamma_m1))\n",
    "        ce = 1.0 / (1.0 - gamma_m1 * u) ** gamma_m1_inverse\n",
    "        ce = np.float(ce)\n",
    "    elif gamma > 1.0:\n",
    "        gamma_m1 = gamma - 1.0\n",
    "        gamma_m1_inverse = 1.0 / gamma_m1\n",
    "        u = np.mean(gamma_m1_inverse - 1.0 / (gamma_m1 * cashflows ** gamma_m1))\n",
    "        ce = 1.0 / (1.0 - gamma_m1 * u) ** gamma_m1_inverse\n",
    "    else:  # general formula\n",
    "        g_1m = 1 - gamma\n",
    "        u = np.mean((cashflows ** g_1m - 1.0) / g_1m)\n",
    "        ce = (g_1m * u + 1.0) ** (1.0 / g_1m)\n",
    "\n",
    "    return ce * len(cashflows)"
   ]
  },
  {
   "cell_type": "code",
   "execution_count": 35,
   "metadata": {},
   "outputs": [],
   "source": [
    "def crra_ce_deathrate(cashflows, gamma, deathrate):\n",
    "    \"\"\"ce cash flow with a mortality curve\n",
    "    cash flows = real cash flows in each year of cohort\n",
    "    gamma = risk aversion\n",
    "    death rate = % of cohort that died in each year of cohort\n",
    "    \n",
    "    compute utility of each cash flow under gamma\n",
    "    compute cumulative mean of utilities up to each year\n",
    "    convert utilities back to CE cash flows\n",
    "    each member of cohort that died in a given year experienced CE cash flow * years alive\n",
    "    \"\"\"\n",
    "    # for retirement study assume no negative cashflows\n",
    "    if sum(np.where(cashflows < 0, 1, 0)):\n",
    "        return 0.0\n",
    "    else:\n",
    "        # 1..lastyear\n",
    "        indices = np.indices(cashflows.shape)[0]+1\n",
    "        \n",
    "        if gamma == 1.0:\n",
    "            # utility\n",
    "            u = np.log(cashflows)\n",
    "            # cumulative mean utility\n",
    "            u_mean = np.cumsum(u)/indices\n",
    "            # cumulative mean ce cash flows\n",
    "            ce = np.exp(u_mean) * indices\n",
    "        elif gamma == 2.0:  # simple optimization\n",
    "            u2 = 1 - 1.0 / cashflows\n",
    "            u2_mean = np.cumsum(u2)/indices\n",
    "            ce = 1.0 / (1.0 - u2_mean) * indices\n",
    "        elif gamma > 4.0:\n",
    "            # force computations as longdouble for more precision, but always return np.float\n",
    "            gamma = np.longdouble(gamma)\n",
    "            cashflows = cashflows.astype(np.longdouble)\n",
    "            gamma_m1 = gamma - 1.0\n",
    "            gamma_m1_inverse = 1.0 / gamma_m1\n",
    "            u = gamma_m1_inverse - 1.0 / (gamma_m1 * cashflows ** gamma_m1)\n",
    "            u_mean = np.cumsum(u)/indices\n",
    "            ce = 1.0 / (1.0 - gamma_m1 * u_mean) ** gamma_m1_inverse\n",
    "            ce = (ce * indices).astype(float)\n",
    "        elif gamma > 1.0:\n",
    "            gamma_m1 = gamma - 1.0\n",
    "            gamma_m1_inverse = 1.0 / gamma_m1\n",
    "            u = gamma_m1_inverse - 1.0 / (gamma_m1 * cashflows ** gamma_m1)\n",
    "            u_mean = np.cumsum(u)/indices\n",
    "            ce = 1.0 / (1.0 - gamma_m1 * u_mean) ** gamma_m1_inverse\n",
    "            ce = ce * indices\n",
    "        else:  # general formula\n",
    "            gamma_1m = 1 - gamma\n",
    "            u = (cashflows ** gamma_1m - 1.0) / gamma_1m\n",
    "            u_mean = np.cumsum(u)/indices\n",
    "            ce = (gamma_1m * u_mean + 1.0) ** (1.0 / gamma_1m)\n",
    "            ce = ce * indices\n",
    "        # mortality_adjusted ce cash flows\n",
    "        madj_ce = np.sum(ce * deathrate)\n",
    "        return madj_ce\n"
   ]
  },
  {
   "cell_type": "code",
   "execution_count": 12,
   "metadata": {},
   "outputs": [],
   "source": [
    "# test 0 and -1\n",
    "testseries = np.random.uniform(1, 100, 100)\n",
    "testseries[50] = 0.0\n",
    "assert crra_ce(testseries, 1) == 0, \"bad value\"\n",
    "testseries[50] = -1.0\n",
    "assert crra_ce(testseries, 1) == 0, \"bad value\"\n"
   ]
  },
  {
   "cell_type": "code",
   "execution_count": 13,
   "metadata": {},
   "outputs": [
    {
     "name": "stdout",
     "output_type": "stream",
     "text": [
      "0 100.0\n",
      "0.5 100.0\n",
      "1 100.0\n",
      "2 100.0\n",
      "4 100.0\n",
      "8 100.0\n",
      "16 100.0\n"
     ]
    }
   ],
   "source": [
    "# a constant series should always be sum of cash flows for any gamma\n",
    "testseries = np.ones(100)\n",
    "for gamma in [0, 0.5, 1, 2, 4, 8, 16]:\n",
    "    print(gamma, crra_ce(testseries, gamma))\n",
    "    assert crra_ce(testseries, gamma) == np.sum(testseries)"
   ]
  },
  {
   "cell_type": "code",
   "execution_count": 77,
   "metadata": {},
   "outputs": [
    {
     "name": "stdout",
     "output_type": "stream",
     "text": [
      "0 5202.840277820812 5202.840277820813\n",
      "0.5 4653.925837443222 4653.925837443221\n",
      "1 3954.6152507744296 3954.615250774431\n",
      "2 2286.2532429643998 2286.253242964396\n",
      "4 784.1145727692299 784.1145727692636\n",
      "8 395.7114152927789 395.71141529277895\n",
      "15 289.8994132741146 289.8994132741146\n"
     ]
    }
   ],
   "source": [
    "testseries = np.random.uniform(1, 100, 100)\n",
    "\n",
    "def general_ce(cashflows, gamma):\n",
    "    cashflows = np.longdouble(cashflows)\n",
    "    if gamma == 1:\n",
    "        u = np.mean(np.log(cashflows))\n",
    "        ce = np.exp(u)\n",
    "    else:\n",
    "        u = np.mean((cashflows ** (1-gamma) -1) / (1-gamma))\n",
    "        ce = (1 + u * (1-gamma)) ** (1/(1-gamma))\n",
    "    ce = np.float(ce)\n",
    "    return ce * len(cashflows)\n",
    "\n",
    "# can't go to 16 without some numerical problems\n",
    "for gamma in [0, 0.5, 1, 2, 4, 8, 15]:\n",
    "    print(gamma, crra_ce(testseries, gamma), general_ce(testseries, gamma))\n",
    "    assert crra_ce(testseries, gamma) == pytest.approx(general_ce(testseries, gamma), 0.000001)\n"
   ]
  },
  {
   "cell_type": "code",
   "execution_count": 90,
   "metadata": {},
   "outputs": [
    {
     "name": "stdout",
     "output_type": "stream",
     "text": [
      "0 5202.840277820812 5202.840277820815\n",
      "0.5 4653.925837443222 4653.925837443225\n",
      "1 3954.6152507744296 3954.615250774428\n",
      "2 2286.2532429643998 2286.2532429644116\n",
      "4 784.1145727692299 784.1145727692299\n",
      "8 395.7114152927789 395.71141529277907\n",
      "10 345.7422458325233 345.7422458325233\n"
     ]
    }
   ],
   "source": [
    "# if everyone dies in last year, mortality-adjusted CE = unadjusted CE\n",
    "deathrate = np.zeros(100)\n",
    "deathrate[99] = 1.0\n",
    "\n",
    "# can't go to 16 without some numerical problems\n",
    "for gamma in [0, 0.5, 1, 2, 4, 8, 10]:\n",
    "    print(gamma, crra_ce(testseries, gamma), crra_ce_deathrate(testseries, gamma, deathrate))\n",
    "    assert crra_ce(testseries, gamma) == pytest.approx(general_ce(testseries, gamma), 0.000001)\n"
   ]
  },
  {
   "cell_type": "code",
   "execution_count": 91,
   "metadata": {},
   "outputs": [
    {
     "data": {
      "text/plain": [
       "0.06666666666666666667"
      ]
     },
     "execution_count": 91,
     "metadata": {},
     "output_type": "execute_result"
    }
   ],
   "source": [
    "gamma = 16\n",
    "gamma = np.longdouble(gamma)\n",
    "cashflows = cashflows.astype(np.longdouble)\n",
    "gamma_m1 = gamma - 1.0\n",
    "gamma_m1_inverse = 1.0 / gamma_m1\n",
    "gamma_m1_inverse"
   ]
  },
  {
   "cell_type": "code",
   "execution_count": 92,
   "metadata": {},
   "outputs": [
    {
     "data": {
      "text/plain": [
       "array([0.06666667, 0.06666667, 0.06666667, 0.06666667, 0.06666667,\n",
       "       0.06666667, 0.06666667, 0.06666667, 0.06666667, 0.06666667,\n",
       "       0.06666666, 0.06666667, 0.06666667, 0.06666667, 0.06666667,\n",
       "       0.06666667, 0.06666667, 0.06666667, 0.06666667, 0.06666667,\n",
       "       0.06666667, 0.06666667, 0.06666667, 0.06666667, 0.06666667,\n",
       "       0.06666667, 0.06666667, 0.06666667, 0.06666667, 0.06666667],\n",
       "      dtype=float128)"
      ]
     },
     "execution_count": 92,
     "metadata": {},
     "output_type": "execute_result"
    }
   ],
   "source": [
    "u = gamma_m1_inverse - 1.0 / (gamma_m1 * cashflows ** gamma_m1)\n",
    "u"
   ]
  },
  {
   "cell_type": "code",
   "execution_count": 93,
   "metadata": {},
   "outputs": [
    {
     "data": {
      "text/plain": [
       "array([0.06666667, 0.06666667, 0.06666667, 0.06666667, 0.06666667,\n",
       "       0.06666667, 0.06666667, 0.06666667, 0.06666667, 0.06666667,\n",
       "       0.06666666, 0.06666667, 0.06666667, 0.06666667, 0.06666667,\n",
       "       0.06666667, 0.06666667, 0.06666667, 0.06666667, 0.06666667,\n",
       "       0.06666667, 0.06666667, 0.06666667, 0.06666667, 0.06666667,\n",
       "       0.06666667, 0.06666667, 0.06666667, 0.06666667, 0.06666667],\n",
       "      dtype=float128)"
      ]
     },
     "execution_count": 93,
     "metadata": {},
     "output_type": "execute_result"
    }
   ],
   "source": [
    "u_mean = np.cumsum(u)/indices\n",
    "u"
   ]
  },
  {
   "cell_type": "code",
   "execution_count": 94,
   "metadata": {},
   "outputs": [
    {
     "name": "stderr",
     "output_type": "stream",
     "text": [
      "/Users/drucev/opt/anaconda3/lib/python3.7/site-packages/ipykernel_launcher.py:1: RuntimeWarning: divide by zero encountered in true_divide\n",
      "  \"\"\"Entry point for launching an IPython kernel.\n"
     ]
    },
    {
     "data": {
      "text/plain": [
       "array([        inf,         inf,         inf,         inf, 19.24840058,\n",
       "       17.88902061,  7.68531085,  7.75403178,  7.8151576 ,  7.87024548,\n",
       "        3.56446585,  3.58520254,  3.60438496,  3.6222366 ,  3.63893554,\n",
       "        3.65462604,  3.66942662,  3.68343587,  3.6967367 ,  3.70939952,\n",
       "        3.72148465,  3.73304413,  3.74412323,  3.75476155,  3.76499392,\n",
       "        3.77485119,  3.78436075,  3.7935471 ,  3.8024322 ,  3.81100937],\n",
       "      dtype=float128)"
      ]
     },
     "execution_count": 94,
     "metadata": {},
     "output_type": "execute_result"
    }
   ],
   "source": [
    "ce = 1.0 / (1.0 - gamma_m1 * u_mean) ** gamma_m1_inverse\n",
    "ce"
   ]
  },
  {
   "cell_type": "code",
   "execution_count": 95,
   "metadata": {},
   "outputs": [
    {
     "data": {
      "text/plain": [
       "dtype('float128')"
      ]
     },
     "execution_count": 95,
     "metadata": {},
     "output_type": "execute_result"
    }
   ],
   "source": [
    "u.dtype"
   ]
  },
  {
   "cell_type": "code",
   "execution_count": null,
   "metadata": {},
   "outputs": [],
   "source": []
  }
 ],
 "metadata": {
  "kernelspec": {
   "display_name": "Python 3",
   "language": "python",
   "name": "python3"
  },
  "language_info": {
   "codemirror_mode": {
    "name": "ipython",
    "version": 3
   },
   "file_extension": ".py",
   "mimetype": "text/x-python",
   "name": "python",
   "nbconvert_exporter": "python",
   "pygments_lexer": "ipython3",
   "version": "3.7.6"
  },
  "toc": {
   "base_numbering": 1,
   "nav_menu": {},
   "number_sections": true,
   "sideBar": true,
   "skip_h1_title": false,
   "title_cell": "Table of Contents",
   "title_sidebar": "Contents",
   "toc_cell": false,
   "toc_position": {},
   "toc_section_display": true,
   "toc_window_display": false
  },
  "varInspector": {
   "cols": {
    "lenName": 16,
    "lenType": 16,
    "lenVar": 40
   },
   "kernels_config": {
    "python": {
     "delete_cmd_postfix": "",
     "delete_cmd_prefix": "del ",
     "library": "var_list.py",
     "varRefreshCmd": "print(var_dic_list())"
    },
    "r": {
     "delete_cmd_postfix": ") ",
     "delete_cmd_prefix": "rm(",
     "library": "var_list.r",
     "varRefreshCmd": "cat(var_dic_list()) "
    }
   },
   "types_to_exclude": [
    "module",
    "function",
    "builtin_function_or_method",
    "instance",
    "_Feature"
   ],
   "window_display": false
  }
 },
 "nbformat": 4,
 "nbformat_minor": 4
}
