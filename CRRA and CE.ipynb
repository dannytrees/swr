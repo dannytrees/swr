{
 "cells": [
  {
   "cell_type": "code",
   "execution_count": 1,
   "metadata": {},
   "outputs": [],
   "source": [
    "import numpy as np\n",
    "import pytest\n",
    "import pdb\n",
    "\n",
    "np.random.seed(42)"
   ]
  },
  {
   "cell_type": "code",
   "execution_count": 2,
   "metadata": {},
   "outputs": [
    {
     "name": "stdout",
     "output_type": "stream",
     "text": [
      "sum 1.0\n"
     ]
    },
    {
     "data": {
      "text/plain": [
       "array([0.01      , 0.0198    , 0.029106  , 0.03764376, 0.04517251,\n",
       "       0.05149666, 0.05647467, 0.06002451, 0.06212537, 0.06281565,\n",
       "       0.06218749, 0.0603784 , 0.05756074, 0.05392999, 0.04969263,\n",
       "       0.04505465, 0.04021128, 0.03533862, 0.03058754, 0.0260799 ,\n",
       "       0.02190712, 0.01813075, 0.0147848 , 0.01187927, 0.00940442,\n",
       "       0.00733545, 0.00563701, 0.00426742, 0.00318228, 0.0077911 ])"
      ]
     },
     "execution_count": 2,
     "metadata": {},
     "output_type": "execute_result"
    }
   ],
   "source": [
    "# compute CE cash flow with a mortality curve\n",
    "\n",
    "# compute % of original cohort that dies each year\n",
    "# mortality starts at 1% in year one and goes up linearly by 1% each year\n",
    "mortality = np.linspace(0.00, 1.0, 101)\n",
    "survivorship = np.cumprod(1-mortality[:31])\n",
    "deathrate = -np.diff(survivorship)\n",
    "# top up last 1 to get to \n",
    "deathrate[-1] += 1- np.sum(deathrate)\n",
    "print (\"sum\", np.sum(deathrate))\n",
    "deathrate\n",
    "\n"
   ]
  },
  {
   "cell_type": "code",
   "execution_count": 3,
   "metadata": {},
   "outputs": [
    {
     "data": {
      "text/plain": [
       "array([38.07947177, 95.12071633, 73.46740024, 60.26718994, 16.4458454 ,\n",
       "       16.44345751,  6.7502776 , 86.75143843, 60.51038616, 71.0991852 ,\n",
       "        3.03786494, 97.02107536, 83.41182144, 22.02157196, 19.00067175,\n",
       "       19.15704648, 31.11998205, 52.95088673, 43.76255685, 29.83168488,\n",
       "       61.57343658, 14.8098922 , 29.9223202 , 37.26982249, 46.15092844,\n",
       "       78.73242018, 20.76770443, 51.9092094 , 59.64904232,  5.59859086])"
      ]
     },
     "execution_count": 3,
     "metadata": {},
     "output_type": "execute_result"
    }
   ],
   "source": [
    "# random cashflows\n",
    "cashflows = np.random.uniform(1, 100, 30)\n",
    "cashflows"
   ]
  },
  {
   "cell_type": "code",
   "execution_count": 4,
   "metadata": {},
   "outputs": [
    {
     "data": {
      "text/plain": [
       "array([3.63967534, 4.55514678, 4.29684177, 4.09878784, 2.80007289,\n",
       "       2.79992768, 1.90958363, 4.463047  , 4.10281502, 4.26407588,\n",
       "       1.11115494, 4.57492823, 4.42379004, 3.09202252, 2.94447433,\n",
       "       2.95267061, 3.43785012, 3.96936482, 3.77877859, 3.39557108,\n",
       "       4.12023055, 2.69529535, 3.3986047 , 3.61818395, 3.83191708,\n",
       "       4.36605502, 3.03339911, 3.94949622, 4.08847809, 1.72251493])"
      ]
     },
     "execution_count": 4,
     "metadata": {},
     "output_type": "execute_result"
    }
   ],
   "source": [
    "# utility, for example log utility (gamma = 1)\n",
    "u = np.log(cashflows)\n",
    "u"
   ]
  },
  {
   "cell_type": "code",
   "execution_count": 5,
   "metadata": {},
   "outputs": [
    {
     "data": {
      "text/plain": [
       "array([ 1,  2,  3,  4,  5,  6,  7,  8,  9, 10, 11, 12, 13, 14, 15, 16, 17,\n",
       "       18, 19, 20, 21, 22, 23, 24, 25, 26, 27, 28, 29, 30])"
      ]
     },
     "execution_count": 5,
     "metadata": {},
     "output_type": "execute_result"
    }
   ],
   "source": [
    "indices = np.indices(u.shape)[0]+1\n",
    "indices"
   ]
  },
  {
   "cell_type": "code",
   "execution_count": 6,
   "metadata": {},
   "outputs": [
    {
     "data": {
      "text/plain": [
       "array([3.63967534, 4.09741106, 4.16388797, 4.14761293, 3.87810492,\n",
       "       3.69840872, 3.44286228, 3.57038537, 3.62954422, 3.69299738,\n",
       "       3.45828443, 3.55133808, 3.61844977, 3.58084783, 3.53842293,\n",
       "       3.50181341, 3.49805086, 3.52423497, 3.537632  , 3.53052896,\n",
       "       3.55860998, 3.51936841, 3.51411781, 3.5184539 , 3.53099243,\n",
       "       3.56311022, 3.54349129, 3.55799147, 3.57628411, 3.5144918 ])"
      ]
     },
     "execution_count": 6,
     "metadata": {},
     "output_type": "execute_result"
    }
   ],
   "source": [
    "# cumulative mean utility\n",
    "mean_u = np.cumsum(u)/indices\n",
    "mean_u"
   ]
  },
  {
   "cell_type": "code",
   "execution_count": 7,
   "metadata": {},
   "outputs": [
    {
     "data": {
      "text/plain": [
       "array([  38.07947177,  120.3685446 ,  192.96334598,  253.13103899,\n",
       "        241.66267216,  242.2979546 ,  218.93446207,  284.24226157,\n",
       "        339.26068512,  401.65056775,  349.38683112,  418.31918156,\n",
       "        484.63650235,  502.65555566,  516.18907746,  530.80893156,\n",
       "        561.86645922,  610.70054169,  653.32256476,  682.84044909,\n",
       "        737.40142762,  742.78814031,  772.48456618,  809.57363536,\n",
       "        853.94625157,  917.09105093,  933.86151596,  982.59396472,\n",
       "       1036.47409588, 1007.96546332])"
      ]
     },
     "execution_count": 7,
     "metadata": {},
     "output_type": "execute_result"
    }
   ],
   "source": [
    "# convert utility back to cash flow and multiply by number of years for cumulative ce cash flow\n",
    "ce = np.exp(mean_u) * indices\n",
    "ce"
   ]
  },
  {
   "cell_type": "code",
   "execution_count": 8,
   "metadata": {},
   "outputs": [
    {
     "data": {
      "text/plain": [
       "436.58452788516126"
      ]
     },
     "execution_count": 8,
     "metadata": {},
     "output_type": "execute_result"
    }
   ],
   "source": [
    "# experienced cumulative CE cash flow \n",
    "# multiply each year's % who died in that year by cumulative CE cash flow up to that year\n",
    "# and then sum for average experienced total cash flow\n",
    "madj_ce = np.sum(ce * deathrate)\n",
    "madj_ce\n",
    "\n",
    "# (there's a (weak) argument for using the average, \n",
    "# i.e. adjusting to equal weight the guy who died in year 1 with the guy who died in year 30)\n"
   ]
  },
  {
   "cell_type": "code",
   "execution_count": 9,
   "metadata": {},
   "outputs": [],
   "source": [
    "def crra_ce(cashflows, gamma):\n",
    "    \"\"\"takes a numpy array, returns total CRRA certainty-equivalent cash flow\"\"\"\n",
    "    # for retirement study assume no negative cashflows\n",
    "    if sum(np.where(cashflows < 0, 1, 0)):\n",
    "        return 0.0\n",
    "    elif gamma >= 1.0 and 0 in cashflows:\n",
    "        return 0.0\n",
    "    elif gamma == 1.0:\n",
    "        # general formula for CRRA utility undefined for gamma = 1 but limit as gamma->1 = log\n",
    "        u = np.mean(np.log(cashflows))\n",
    "        ce = np.exp(u)\n",
    "    elif gamma == 2.0:  # simple optimization\n",
    "        u2 = np.mean(1 - 1.0 / cashflows)\n",
    "        ce = 1.0 / (1.0 - u2)\n",
    "    elif gamma > 4.0:\n",
    "        # force computations as longdouble for more precision, but always return np.float\n",
    "        gamma = np.longdouble(gamma)\n",
    "        cashflows = cashflows.astype(np.longdouble)\n",
    "        gamma_m1 = gamma - 1.0\n",
    "        gamma_m1_inverse = 1.0 / gamma_m1\n",
    "        u = np.mean(gamma_m1_inverse - 1.0 / (gamma_m1 * cashflows ** gamma_m1))\n",
    "        ce = 1.0 / (1.0 - gamma_m1 * u) ** gamma_m1_inverse\n",
    "        ce = np.float(ce.astype)\n",
    "    elif gamma > 1.0:\n",
    "        gamma_m1 = gamma - 1.0\n",
    "        gamma_m1_inverse = 1.0 / gamma_m1\n",
    "        u = np.mean(gamma_m1_inverse - 1.0 / (gamma_m1 * cashflows ** gamma_m1))\n",
    "        ce = 1.0 / (1.0 - gamma_m1 * u) ** gamma_m1_inverse\n",
    "    else:  # general formula\n",
    "        g_1m = 1 - gamma\n",
    "        u = np.mean((cashflows ** g_1m - 1.0) / g_1m)\n",
    "        ce = (g_1m * u + 1.0) ** (1.0 / g_1m)\n",
    "\n",
    "    return ce * len(cashflows)"
   ]
  },
  {
   "cell_type": "code",
   "execution_count": 10,
   "metadata": {},
   "outputs": [],
   "source": [
    "def crra_ce_deathrate(cashflows, gamma, deathrate):\n",
    "    \"\"\"ce cash flow with a mortality curve\n",
    "    cash flows = real cash flows in each year of cohort\n",
    "    gamma = risk aversion\n",
    "    death rate = % of cohort that died in each year of cohort\n",
    "    \n",
    "    compute utility of each cash flow under gamma\n",
    "    compute cumulative mean of utilities up to each year\n",
    "    convert utilities back to CE cash flows\n",
    "    each member of cohort that died in a given year experienced CE cash flow * years alive\n",
    "    \"\"\"\n",
    "    # for retirement study assume no negative cashflows\n",
    "    if sum(np.where(cashflows < 0, 1, 0)):\n",
    "        return 0.0\n",
    "    else:\n",
    "        # 1..lastyear\n",
    "        indices = np.indices(cashflows.shape)[0]+1\n",
    "        \n",
    "        if gamma == 1.0:\n",
    "            # utility\n",
    "            u = np.log(cashflows)\n",
    "            # cumulative mean utility\n",
    "            u_mean = np.cumsum(u)/indices\n",
    "            # cumulative mean ce cash flows\n",
    "            ce = np.exp(u_mean) * indices\n",
    "        elif gamma == 2.0:  # simple optimization\n",
    "            u2 = 1 - 1.0 / cashflows\n",
    "            u2_mean = np.cumsum(u)/indices\n",
    "            ce = 1.0 / (1.0 - u2_mean) * indices\n",
    "        elif gamma > 4.0:\n",
    "            # force computations as longdouble for more precision, but always return np.float\n",
    "            gamma = np.longdouble(gamma)\n",
    "            cashflows = cashflows.astype(np.longdouble)\n",
    "            gamma_m1 = gamma - 1.0\n",
    "            gamma_m1_inverse = 1.0 / gamma_m1\n",
    "            u = gamma_m1_inverse - 1.0 / (gamma_m1 * cashflows ** gamma_m1)\n",
    "            u_mean = np.cumsum(u)/indices\n",
    "            ce = 1.0 / (1.0 - gamma_m1 * u_mean) ** gamma_m1_inverse\n",
    "            ce = (ce * indices).astype(float)\n",
    "        elif gamma > 1.0:\n",
    "            gamma_m1 = gamma - 1.0\n",
    "            gamma_m1_inverse = 1.0 / gamma_m1\n",
    "            u = gamma_m1_inverse - 1.0 / (gamma_m1 * cashflows ** gamma_m1)\n",
    "            u_mean = np.cumsum(u)/indices\n",
    "            ce = 1.0 / (1.0 - gamma_m1 * u_mean) ** gamma_m1_inverse\n",
    "            ce = ce * indices\n",
    "        else:  # general formula\n",
    "            gamma_1m = 1 - gamma\n",
    "            u = (cashflows ** gamma_1m - 1.0) / gamma_1m\n",
    "            u_mean = np.cumsum(u)/indices\n",
    "            ce = (gamma_1m * u_mean + 1.0) ** (1.0 / gamma_1m)\n",
    "            ce = ce * indices\n",
    "        # mortality_adjusted ce cash flows\n",
    "        madj_ce = np.sum(ce * deathrate)\n",
    "        return madj_ce\n"
   ]
  },
  {
   "cell_type": "code",
   "execution_count": 11,
   "metadata": {},
   "outputs": [
    {
     "data": {
      "text/plain": [
       "array([61.14694034, 17.88188825,  7.44010771, 94.93966819, 96.59757127,\n",
       "       81.03133746, 31.15676315, 10.66953929, 68.73906962, 44.57509688,\n",
       "       13.08178525, 50.0225141 ,  4.40446359, 91.02271981, 26.61921818,\n",
       "       66.58970615, 31.85939653, 52.4867341 , 55.12431765, 19.3005911 ,\n",
       "       96.98887815, 77.73814951, 94.01039521, 89.58790769, 60.1920979 ,\n",
       "       92.26554927,  9.7607577 , 20.40230338,  5.4775016 , 33.20770275,\n",
       "       39.47905168, 27.86355415, 83.04501341, 36.31857934, 28.81251646,\n",
       "       54.72691223, 14.95149827, 80.41750109,  8.38051372, 98.70180672,\n",
       "       77.45223216, 20.67285247,  1.5466896 , 81.73068142, 70.97887704,\n",
       "       73.17170964, 77.35576432,  8.33042052, 36.48810713, 12.47103689,\n",
       "       86.44723916, 62.70651456, 33.75890446,  7.29227668, 31.78724985,\n",
       "       33.19314888, 73.23101166, 64.11818966, 88.83406152, 47.74927759,\n",
       "       12.83983035, 71.61123394, 76.31771981, 56.56644256, 77.32575082,\n",
       "       49.88576404, 52.75055011, 43.32656082,  3.51649355, 11.68125127,\n",
       "        4.11148938, 64.00463072, 32.12124213, 51.34849843, 90.84908092,\n",
       "       25.67993069, 41.62790938, 75.79956272, 23.65101838,  8.62101107,\n",
       "       29.68539384, 16.96090744, 93.04006758, 81.00391758, 63.70697189,\n",
       "       87.27459843, 80.56353561, 19.47043583, 89.36334085, 54.39488195,\n",
       "       80.93657536, 89.71303869, 32.48234402, 11.89514053, 23.56558109,\n",
       "       43.28367107, 81.98346183, 86.21232774,  1.68826092, 51.56398296],\n",
       "      dtype=float128)"
      ]
     },
     "execution_count": 11,
     "metadata": {},
     "output_type": "execute_result"
    }
   ],
   "source": [
    "testseries = np.random.uniform(1, 100, 100)\n",
    "testseries.astype(np.float128)\n"
   ]
  },
  {
   "cell_type": "code",
   "execution_count": 12,
   "metadata": {},
   "outputs": [],
   "source": [
    "# test 0 and -1\n",
    "test2 = testseries.copy()\n",
    "test2[50] = 0.0\n",
    "assert crra_ce(test2, 1) == 0, \"bad value\"\n",
    "test2[50] = -1.0\n",
    "assert crra_ce(test2, 1) == 0, \"bad value\"\n"
   ]
  },
  {
   "cell_type": "code",
   "execution_count": 13,
   "metadata": {},
   "outputs": [],
   "source": [
    "# test a short series with gammas 0, 0.5, 1, 2, 4, 8 up to 8\n",
    "# test random series\n",
    "# supply same random series with deathrate all 0s up until final year"
   ]
  }
 ],
 "metadata": {
  "kernelspec": {
   "display_name": "Python 3",
   "language": "python",
   "name": "python3"
  },
  "language_info": {
   "codemirror_mode": {
    "name": "ipython",
    "version": 3
   },
   "file_extension": ".py",
   "mimetype": "text/x-python",
   "name": "python",
   "nbconvert_exporter": "python",
   "pygments_lexer": "ipython3",
   "version": "3.7.6"
  },
  "toc": {
   "base_numbering": 1,
   "nav_menu": {},
   "number_sections": true,
   "sideBar": true,
   "skip_h1_title": false,
   "title_cell": "Table of Contents",
   "title_sidebar": "Contents",
   "toc_cell": false,
   "toc_position": {},
   "toc_section_display": true,
   "toc_window_display": false
  },
  "varInspector": {
   "cols": {
    "lenName": 16,
    "lenType": 16,
    "lenVar": 40
   },
   "kernels_config": {
    "python": {
     "delete_cmd_postfix": "",
     "delete_cmd_prefix": "del ",
     "library": "var_list.py",
     "varRefreshCmd": "print(var_dic_list())"
    },
    "r": {
     "delete_cmd_postfix": ") ",
     "delete_cmd_prefix": "rm(",
     "library": "var_list.r",
     "varRefreshCmd": "cat(var_dic_list()) "
    }
   },
   "types_to_exclude": [
    "module",
    "function",
    "builtin_function_or_method",
    "instance",
    "_Feature"
   ],
   "window_display": false
  }
 },
 "nbformat": 4,
 "nbformat_minor": 4
}
